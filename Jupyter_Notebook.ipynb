{
 "cells": [
  {
   "cell_type": "markdown",
   "metadata": {},
   "source": [
    "<center>\n",
    "    <img src=\"https://cf-courses-data.s3.us.cloud-object-storage.appdomain.cloud/IBMDeveloperSkillsNetwork-DS0105EN-SkillsNetwork/labs/Module2/images/SN_web_lightmode.png\" width=\"300\" alt=\"cognitiveclass.ai logo\">\n",
    "</center>\n"
   ]
  },
  {
   "cell_type": "markdown",
   "metadata": {},
   "source": [
    "#### Add your code below following the instructions given in the course\n"
   ]
  },
  {
   "cell_type": "markdown",
   "metadata": {
    "tags": []
   },
   "source": [
    "### title\n",
    "markdown cell"
   ]
  },
  {
   "cell_type": "markdown",
   "metadata": {},
   "source": [
    "Data science is a comprehensive discipline that combines statistics, mathematics, computer science, and domain knowledge to extract meaningful information and insight from data."
   ]
  },
  {
   "cell_type": "markdown",
   "metadata": {},
   "source": [
    "Python R SQL Julia Scala Java"
   ]
  },
  {
   "cell_type": "markdown",
   "metadata": {},
   "source": [
    "NumPy：NumPy \n",
    "\n",
    "Pandas：Pandas \n",
    "\n",
    "Matplotlib：Matplotlib \n",
    "\n",
    "Seaborn：Seaborn \n",
    "\n",
    "Scikit-learn：Scikit-learn \n",
    "\n",
    "TensorFlow：TensorFlow \n",
    "\n",
    "PyTorch：PyTorch \n",
    "\n",
    "Keras：Keras \n",
    "\n",
    "Statsmodels：Statsmodels "
   ]
  },
  {
   "cell_type": "markdown",
   "metadata": {},
   "source": [
    "| tool               | language       |database                            |\n",
    "| ------------------ | ------------ | ---------------------------------- |\n",
    "| **Python**         | Python       | NumPy, Pandas, Matplotlib, Scikit-learn, TensorFlow, Keras, PyTorch, Statsmodels |\n",
    "| **R**              | R            | dplyr, ggplot2, tidyr, caret, randomForest, glmnet |\n",
    "| **SQL**            | SQL          | -                                  |\n",
    "| **Julia**          | Julia        | DataFrames, Plots, Flux, MLJ       |\n",
    "| **Scala**          | Scala        | Apache Spark                       |\n",
    "| **Java**           | Java         | Apache Hadoop, Apache Flink        |\n",
    "| **Tableau**        | -            | -                                  |\n",
    "| **Power BI**       | -            | -                                  |\n",
    "| **Excel**          | -            | -                                  |"
   ]
  },
  {
   "cell_type": "code",
   "execution_count": 2,
   "metadata": {
    "tags": []
   },
   "outputs": [
    {
     "name": "stdout",
     "output_type": "stream",
     "text": [
      "169\n"
     ]
    }
   ],
   "source": [
    "a = 114\n",
    "b = 51\n",
    "c = a + b + 4 \n",
    "print(c) "
   ]
  },
  {
   "cell_type": "markdown",
   "metadata": {},
   "source": [
    "\n",
    "\n",
    "```python\n",
    "a = 114\n",
    "b = 51\n",
    "c = a + b + 4  \n",
    "print(c)       # output: 169"
   ]
  },
  {
   "cell_type": "code",
   "execution_count": 3,
   "metadata": {
    "tags": []
   },
   "outputs": [
    {
     "data": {
      "text/plain": [
       "58596"
      ]
     },
     "execution_count": 3,
     "metadata": {},
     "output_type": "execute_result"
    }
   ],
   "source": [
    "114 * 514"
   ]
  },
  {
   "cell_type": "code",
   "execution_count": 4,
   "metadata": {
    "tags": []
   },
   "outputs": [
    {
     "name": "stdout",
     "output_type": "stream",
     "text": [
      "150 min = 2.5 hour\n"
     ]
    }
   ],
   "source": [
    "\n",
    "minutes = 150\n",
    "\n",
    "hours = minutes / 60\n",
    "\n",
    "\n",
    "print(f\"{minutes} min = {hours} hour\")"
   ]
  },
  {
   "cell_type": "markdown",
   "metadata": {},
   "source": [
    "### target\n",
    "\n",
    "1. Learn the basic concepts and principles of data science\n",
    "2. Proficient in common data science tools and libraries.\n"
   ]
  },
  {
   "cell_type": "markdown",
   "metadata": {},
   "source": [
    "zicong peng"
   ]
  },
  {
   "cell_type": "code",
   "execution_count": null,
   "metadata": {},
   "outputs": [],
   "source": []
  }
 ],
 "metadata": {
  "kernelspec": {
   "display_name": "Python",
   "language": "python",
   "name": "conda-env-python-py"
  },
  "language_info": {
   "codemirror_mode": {
    "name": "ipython",
    "version": 3
   },
   "file_extension": ".py",
   "mimetype": "text/x-python",
   "name": "python",
   "nbconvert_exporter": "python",
   "pygments_lexer": "ipython3",
   "version": "3.7.12"
  }
 },
 "nbformat": 4,
 "nbformat_minor": 4
}
